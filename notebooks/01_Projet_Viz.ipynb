{
 "cells": [
  {
   "attachments": {},
   "cell_type": "markdown",
   "metadata": {},
   "source": [
    "# Projet : Détection de constructions illégales"
   ]
  },
  {
   "attachments": {},
   "cell_type": "markdown",
   "metadata": {},
   "source": [
    "## Introduction"
   ]
  },
  {
   "attachments": {},
   "cell_type": "markdown",
   "metadata": {},
   "source": [
    "### Mise en place de l'environnement de travail"
   ]
  },
  {
   "attachments": {},
   "cell_type": "markdown",
   "metadata": {},
   "source": [
    "#### Récupération des fichiers"
   ]
  },
  {
   "attachments": {},
   "cell_type": "markdown",
   "metadata": {},
   "source": [
    "##### Cadastre"
   ]
  },
  {
   "attachments": {},
   "cell_type": "markdown",
   "metadata": {},
   "source": [
    "https://geoservices.ign.fr/bdtopo"
   ]
  },
  {
   "attachments": {},
   "cell_type": "markdown",
   "metadata": {},
   "source": [
    "1) Télécharger les fichiers du département désiré en faisant attention à l'année\n",
    "2) Déziper les fichiers dans un répertoire *Cadastre* au même niveau que ce Jupyterbook"
   ]
  },
  {
   "attachments": {},
   "cell_type": "markdown",
   "metadata": {},
   "source": [
    "##### Images satellite"
   ]
  },
  {
   "attachments": {},
   "cell_type": "markdown",
   "metadata": {},
   "source": [
    "https://geoservices.ign.fr/bdortho"
   ]
  },
  {
   "attachments": {},
   "cell_type": "markdown",
   "metadata": {},
   "source": [
    "1) Télécharger les fichiers du département désiré en faisant attention à l'année\n",
    "2) Déziper les fichiers dans un répertoire *Satellite* au même niveau que ce Jupyterbook"
   ]
  },
  {
   "attachments": {},
   "cell_type": "markdown",
   "metadata": {},
   "source": [
    "#### Bibliothèques nécessaires"
   ]
  },
  {
   "attachments": {},
   "cell_type": "markdown",
   "metadata": {},
   "source": [
    "**rasterio** - Bibliothèque pour la manipulation d'images raster (images géospatiales) :\n",
    "\n",
    "*pip install rasterio*\n",
    "\n",
    "**matplotlib** - Bibliothèque pour la création de visualisations graphiques :\n",
    "\n",
    "*pip install matplotlib*\n",
    "\n",
    "**numpy** - Bibliothèque pour la manipulation de tableaux multidimensionnels :\n",
    "\n",
    "*pip install numpy*\n",
    "\n",
    "**pandas** - Bibliothèque pour la manipulation, l'analyse et la visualisation de données de tableaux multidimensionnels :\n",
    "\n",
    "*pip install pandas*\n",
    "\n",
    "**geopandas** - Extension de la bibliothèque pandas pour la manipulation de données géospatiales (elle nécessite quelques dépendances) :\n",
    "\n",
    "*pip install geopandas fiona geopy pyproj shapely*"
   ]
  },
  {
   "attachments": {},
   "cell_type": "markdown",
   "metadata": {},
   "source": [
    "## 0) Bibliothèques et fonctions"
   ]
  },
  {
   "attachments": {},
   "cell_type": "markdown",
   "metadata": {},
   "source": [
    "### Bibliothèques"
   ]
  },
  {
   "attachments": {},
   "cell_type": "markdown",
   "metadata": {},
   "source": [
    "#### Import des bibliothèques"
   ]
  },
  {
   "cell_type": "code",
   "execution_count": null,
   "metadata": {},
   "outputs": [],
   "source": [
    "import rasterio\n",
    "import matplotlib.pyplot as plt\n",
    "import os\n",
    "import numpy as np\n",
    "import pandas as pd\n",
    "import folium\n",
    "import geopandas as gpd\n",
    "import glob\n",
    "import plotly.express as px\n",
    "import plotly.graph_objs as go\n",
    "import cv2\n",
    "\n"
   ]
  },
  {
   "attachments": {},
   "cell_type": "markdown",
   "metadata": {},
   "source": [
    "### Fonctions"
   ]
  },
  {
   "attachments": {},
   "cell_type": "markdown",
   "metadata": {},
   "source": [
    "#### Fonction de récupération des images satellites"
   ]
  },
  {
   "cell_type": "code",
   "execution_count": null,
   "metadata": {},
   "outputs": [],
   "source": [
    "def getImg(path):\n",
    "    \"\"\"\n",
    "    Récupère de manière récursive les chemins d'image et de fichiers .tab dans un répertoire donné.\n",
    "\n",
    "    Args:\n",
    "        directory (str): Le chemin absolu du répertoire à explorer.\n",
    "\n",
    "    Returns:\n",
    "        Un dataframe avec deux colonnes :\n",
    "            - La première colonne contient les chemins d'image trouvés.\n",
    "            - La deuxième colonne contient les chemins de fichiers .tab trouvés.\n",
    "    \"\"\"\n",
    "    image_extensions = ['.jpg', '.jpeg', '.png', '.gif', '.bmp', \".jp2\"]  # Extensions d'image supportées\n",
    "    tab_extensions = ['.tab']  # Extensions de fichier .tab supportées\n",
    "    image_paths = []\n",
    "    tab_paths = []\n",
    "\n",
    "    for dirpath, _, filenames in os.walk(path):\n",
    "        for filename in filenames:\n",
    "            if any(filename.lower().endswith(ext) for ext in image_extensions):\n",
    "                image_path = os.path.join(dirpath, filename)\n",
    "                image_paths.append(image_path)\n",
    "            elif any(filename.lower().endswith(tab) for tab in tab_extensions):\n",
    "                tab_path = os.path.join(dirpath, filename)\n",
    "                tab_paths.append(tab_path)\n",
    "\n",
    "    # Créer un dictionnaire à partir des deux listes\n",
    "    data = {'Image Paths': image_paths, 'Tab Paths': tab_paths}\n",
    "\n",
    "    # Créer un DataFrame à partir du dictionnaire\n",
    "    df = pd.DataFrame(data)\n",
    "\n",
    "    return df"
   ]
  },
  {
   "attachments": {},
   "cell_type": "markdown",
   "metadata": {},
   "source": [
    "#### Fonction de nettoyage de répertoire"
   ]
  },
  {
   "cell_type": "code",
   "execution_count": null,
   "metadata": {},
   "outputs": [],
   "source": [
    "def emptyPath(path):\n",
    "    # Vérifier si le répertoire existe\n",
    "    if os.path.exists(path):\n",
    "        # Parcourir tous les fichiers et dossiers dans le répertoire\n",
    "        for element in os.listdir(path):\n",
    "            element_path = os.path.join(path, element)  # Chemin complet de l'élément\n",
    "            if os.path.isfile(element_path):  # Vérifier si l'élément est un fichier\n",
    "                os.remove(element_path)  # Supprimer le fichier\n",
    "            elif os.path.isdir(element_path):  # Vérifier si l'élément est un dossier\n",
    "                os.rmdir(element_path)  # Supprimer le dossier vide\n"
   ]
  },
  {
   "attachments": {},
   "cell_type": "markdown",
   "metadata": {},
   "source": [
    "#### Fonction de découpe de l'image"
   ]
  },
  {
   "cell_type": "code",
   "execution_count": null,
   "metadata": {},
   "outputs": [],
   "source": [
    "def splitImg(nbPxX, nbPxY, pathImg, pathDest):\n",
    "    \"\"\"\n",
    "    Découpe une image en sous-images de taille donnée et les enregistre dans un répertoire de destination.\n",
    "\n",
    "    Args:\n",
    "        nbPxX (int): Nombre de pixels en largeur pour chaque sous-image.\n",
    "        nbPxY (int): Nombre de pixels en hauteur pour chaque sous-image.\n",
    "        pathImg (str): Chemin absolu de l'image principale à découper.\n",
    "        pathDest (str): Chemin absolu du répertoire de destination pour les sous-images.\n",
    "    \"\"\"\n",
    "    # Vérifier si le répertoire existe déjà\n",
    "    if not os.path.exists(pathDest):\n",
    "        # Créer le répertoire s'il n'existe pas\n",
    "        os.makedirs(pathDest)\n",
    "\n",
    "    # Récupère la latitude et la longitude depuis le nom de l'image\n",
    "    # Ouvrir l'image principale avec rasterio\n",
    "    with rasterio.open(pathImg) as src:\n",
    "        # Lire les propriétés de l'image principale\n",
    "        width = src.width\n",
    "        height = src.height\n",
    "        count = src.count\n",
    "        dtype = src.dtypes[0]\n",
    "\n",
    "        # Calculer le nombre de sous-images en largeur et en hauteur\n",
    "        num_subimages_x = width // nbPxX\n",
    "        num_subimages_y = height // nbPxY\n",
    "        \n",
    "        # Obtenir le nom de l'image original\n",
    "        nomImage = pathImg.split(\"/\")[-1].split(\".\")[0]\n",
    "        \n",
    "        # Boucle pour découper les sous-images\n",
    "        for i in range(num_subimages_y):\n",
    "            for j in range(num_subimages_x):\n",
    "                # Lire les pixels de la sous-image à partir de l'image principale\n",
    "                window = rasterio.windows.Window(j * nbPxX, i * nbPxY, nbPxX, nbPxY)\n",
    "                subimage = src.read(window=window)\n",
    "\n",
    "                # Créer un chemin de fichier pour la sous-image en utilisant les coordonnées de la fenêtre\n",
    "                subimage_filename = nomImage + '_' + str(i).zfill(3) + '_' + str(j).zfill(3) + '.png'  # Changer l'extension de fichier si nécessaire\n",
    "                subimage_filepath = os.path.join(pathDest, subimage_filename)\n",
    "\n",
    "                # Vérifier si la sous-image déborde de l'image principale et la compléter avec des pixels blancs si nécessaire\n",
    "                if i * nbPxY + nbPxY > height:\n",
    "                    subimage = np.pad(subimage, ((0, i * nbPxY + nbPxY - height), (0, 0), (0, 0)), mode='constant', constant_values=255)\n",
    "                if j * nbPxX + nbPxX > width:\n",
    "                    subimage = np.pad(subimage, ((0, 0), (0, j * nbPxX + nbPxX - width), (0, 0)), mode='constant', constant_values=255)\n",
    "\n",
    "                # Enregistrer la sous-image dans le répertoire de destination\n",
    "                with rasterio.open(subimage_filepath, 'w', driver='PNG', width=nbPxX, height=nbPxY, count=count, dtype=dtype) as dst:\n",
    "                    dst.write(subimage)"
   ]
  },
  {
   "attachments": {},
   "cell_type": "markdown",
   "metadata": {},
   "source": [
    "#### Fonction de normalisation"
   ]
  },
  {
   "cell_type": "code",
   "execution_count": null,
   "metadata": {},
   "outputs": [],
   "source": [
    "def normalize_band(band, lower_percentile=2, upper_percentile=98):\n",
    "    lower_value, upper_value = np.percentile(band, (lower_percentile, upper_percentile))\n",
    "    return np.clip((band - lower_value) / (upper_value - lower_value), 0, 1)"
   ]
  },
  {
   "attachments": {},
   "cell_type": "markdown",
   "metadata": {},
   "source": [
    "#### Fonction d'affichage"
   ]
  },
  {
   "cell_type": "code",
   "execution_count": null,
   "metadata": {},
   "outputs": [],
   "source": [
    "def displayImg(path):\n",
    "    # Read the individual red, green, and blue bands using Rasterio\n",
    "    with rasterio.open(path, 'r') as src:\n",
    "        red_band = src.read(1).astype(np.float32)\n",
    "\n",
    "    with rasterio.open(path, 'r') as src:\n",
    "        green_band = src.read(2).astype(np.float32)\n",
    "\n",
    "    with rasterio.open(path, 'r') as src:\n",
    "        blue_band = src.read(3).astype(np.float32)\n",
    "\n",
    "    # Normalize the bands\n",
    "    normalized_red_band = normalize_band(red_band)\n",
    "    normalized_green_band = normalize_band(green_band)\n",
    "    normalized_blue_band = normalize_band(blue_band)\n",
    "\n",
    "    # Stack the bands together\n",
    "    rgb_image = np.stack((normalized_red_band, normalized_green_band, normalized_blue_band), axis=-1)\n",
    "\n",
    "    return rgb_image"
   ]
  },
  {
   "attachments": {},
   "cell_type": "markdown",
   "metadata": {},
   "source": [
    "#### Fonction d'affichage de plusieurs Images"
   ]
  },
  {
   "cell_type": "code",
   "execution_count": null,
   "metadata": {},
   "outputs": [],
   "source": [
    "def displayMultipleImg(path, nbCol, nbLines, displayLegend = False):\n",
    "    # Créer une figure avec des sous-graphiques\n",
    "    fig, axes = plt.subplots(nbLines, nbCol, figsize=(100, 100))\n",
    "    \n",
    "    # Parcourir les fichiers dans le répertoire\n",
    "    for i, fichier in enumerate(os.listdir(path)):\n",
    "        if fichier.endswith(\".png\"):  # Vérifier que le fichier est une image png\n",
    "            chemin_image = os.path.join(path, fichier)\n",
    "            image = plt.imread(chemin_image)\n",
    "\n",
    "            # # Lire la propriété bound de l'image\n",
    "            # with rasterio.open(chemin_image) as src:\n",
    "            #     xmin, ymin, xmax, ymax = src.bounds\n",
    "\n",
    "            # Récupérer l'axe correspondant au sous-graphique courant\n",
    "            axe = axes.flat[i]\n",
    "            \n",
    "            # Afficher l'image sur l'axe\n",
    "            axe.imshow(image)\n",
    "            \n",
    "            # Récupérer la largeur et la hauteur de l'image\n",
    "            largeur, hauteur, _ = image.shape\n",
    "            \n",
    "            # Ajouter une légende avec le numéro de sous-image\n",
    "            if (displayLegend):\n",
    "                numero_sous_image = fichier.split(\".\")[0].split(\"_\")[1] + ' ' + fichier.split(\".\")[0].split(\"_\")[2]  # Récupérer le numéro de sous-image à partir du nom de fichier\n",
    "                axe.text(largeur-100, hauteur-50, \"N° \" + numero_sous_image, color='white', fontsize=12, ha='right', va='bottom', bbox=dict(facecolor='black', alpha=0.5)) # + ' - Gauche ' + str(xmin) + ' Bas ' +  str(ymin) + ' Droite ' +  str(xmax) + ' Haut ' +  str(ymax)\n",
    "                axe.axis('off')\n",
    "            \n",
    "            ## Enregistrer l'image avec la légende\n",
    "            #chemin_image_legende = os.path.join(path, f\"legende_{numero_sous_image}.jpg\")\n",
    "            #plt.savefig(chemin_image_legende, bbox_inches='tight')\n",
    "            \n",
    "    # Fermer la figure\n",
    "    #plt.close(fig)"
   ]
  },
  {
   "attachments": {},
   "cell_type": "markdown",
   "metadata": {},
   "source": [
    "#### Fonction pour récupérer tous les fichiers .shp d'un répertoire"
   ]
  },
  {
   "cell_type": "code",
   "execution_count": null,
   "metadata": {},
   "outputs": [],
   "source": [
    "def get_shp_files(directory):\n",
    "    \"\"\"\n",
    "    Récupère tous les fichiers .shp d'un répertoire de manière récursive.\n",
    "\n",
    "    Args:\n",
    "        directory (str): Le chemin du répertoire.\n",
    "\n",
    "    Returns:\n",
    "        pd.DataFrame: Un dataframe pandas avec trois colonnes : 'Nom du fichier', 'Chemin du fichier' et 'Contenu du fichier'.\n",
    "    \"\"\"\n",
    "    # Créer un dataframe vide pour stocker les informations des fichiers .shp\n",
    "    shp_files_df = pd.DataFrame(columns=['Répertoire','Nom du fichier', 'Chemin du fichier', 'Contenu du fichier'])\n",
    "\n",
    "    # Parcourir le répertoire de manière récursive\n",
    "    for root, dirs, files in os.walk(directory):\n",
    "        for file in files:\n",
    "            # Vérifier si le fichier a l'extension .shp\n",
    "            if file.endswith(\".shp\"):\n",
    "                # Construire le chemin complet du fichier\n",
    "                file_path = os.path.join(root, file)\n",
    "\n",
    "                # Lire le contenu du fichier shp avec geopandas\n",
    "                gdf = gpd.read_file(file_path)\n",
    "\n",
    "                # Extraire le nom du répertoire\n",
    "                dir_name = os.path.basename(os.path.dirname(file_path)).split('/')[-1]\n",
    "\n",
    "                # Extraire le nom du fichier sans l'extension\n",
    "                file_name = os.path.splitext(file)[0]\n",
    "\n",
    "                # Créer un dataframe temporaire pour le fichier shp\n",
    "                temp_df = pd.DataFrame({'Répertoire': [dir_name],\n",
    "                                        'Nom du fichier': [file_name],\n",
    "                                        'Chemin du fichier': [file_path],\n",
    "                                        'Contenu du fichier': [gdf]})\n",
    "\n",
    "                # Concaténer le dataframe temporaire avec le dataframe principal\n",
    "                shp_files_df = pd.concat([shp_files_df, temp_df], ignore_index=True)\n",
    "\n",
    "    return shp_files_df"
   ]
  },
  {
   "attachments": {},
   "cell_type": "markdown",
   "metadata": {},
   "source": [
    "#### Fonction pour afficher une image avec ses shapefile associés (ne marche pas !!!)"
   ]
  },
  {
   "cell_type": "code",
   "execution_count": null,
   "metadata": {},
   "outputs": [],
   "source": [
    "def display_interactiveMap(img_path, shp_path):\n",
    "    \"\"\"\n",
    "    Superpose un fichier shp sur une image jp2.\n",
    "\n",
    "    Args:\n",
    "        img_path (str): Le chemin du fichier jp2.\n",
    "        shp_path (str): Le chemin du fichier shp.\n",
    "\n",
    "    Returns:\n",
    "        None\n",
    "    \"\"\"\n",
    "    # Ouvrir le fichier jp2 avec rasterio\n",
    "    with rasterio.open(img_path) as src:\n",
    "        # Lire l'image jp2\n",
    "        jp2_image = src.read()\n",
    "\n",
    "        # Ouvrir le fichier shp avec geopandas\n",
    "        gdf = gpd.read_file(shp_path)\n",
    "\n",
    "        # Afficher l'image jp2\n",
    "        plt.figure(figsize=(10, 10))\n",
    "        rasterio.plot.show(jp2_image, transform=src.transform)\n",
    "\n",
    "        # Superposer le fichier shp sur l'image jp2\n",
    "        gdf.plot(ax=plt.gca(), facecolor='none', edgecolor='red')\n",
    "\n",
    "        # Afficher la légende\n",
    "        plt.legend(['Fichier shp'])\n",
    "\n",
    "        # Afficher le graphique interactif\n",
    "        plt.show()"
   ]
  },
  {
   "attachments": {},
   "cell_type": "markdown",
   "metadata": {},
   "source": [
    "#### Fonction pour charger l'image en définissant xrange et yrange a l'aide des bounds"
   ]
  },
  {
   "cell_type": "code",
   "execution_count": null,
   "metadata": {},
   "outputs": [],
   "source": [
    "def load_image(path):\n",
    "    with rasterio.open(path) as src:\n",
    "        red_band = src.read(1).astype(np.float32)\n",
    "        green_band = src.read(2).astype(np.float32)\n",
    "        blue_band = src.read(3).astype(np.float32)\n",
    "        resolution = src.res\n",
    "        bounds = src.bounds\n",
    "\n",
    "    # Normalize the bands\n",
    "    normalized_red_band = normalize_band(red_band)\n",
    "    normalized_green_band = normalize_band(green_band)\n",
    "    normalized_blue_band = normalize_band(blue_band)\n",
    "\n",
    "    # Stack the bands together\n",
    "    rgb_image = np.stack((normalized_red_band, normalized_green_band, normalized_blue_band), axis=-1)\n",
    "\n",
    "    coords = [(bounds.left, bounds.bottom), (bounds.right, bounds.top)]\n",
    "    transform = rasterio.transform.from_bounds(*coords[0], *coords[1], len(rgb_image[0]), len(rgb_image))\n",
    "    xrange = [coords[0][0], coords[1][0]]\n",
    "    yrange = [coords[1][1], coords[0][1]]\n",
    "\n",
    "    return rgb_image, xrange, yrange\n",
    "\n"
   ]
  },
  {
   "attachments": {},
   "cell_type": "markdown",
   "metadata": {},
   "source": [
    "#### Fonction de chargement des fichier shp en les catégorisant àl'aide des noms de dossiers"
   ]
  },
  {
   "cell_type": "code",
   "execution_count": null,
   "metadata": {},
   "outputs": [],
   "source": [
    "# Define the load_shp function with an input for the file path\n",
    "def load_shp(path):\n",
    "    # Load data using GeoPandas\n",
    "    bdtopo = gpd.read_file(path)\n",
    "\n",
    "    # Add Category and Type columns\n",
    "    category = path.split('/')[-2] \n",
    "    file_info = path.split('/')[-1][:-4]\n",
    "\n",
    "    bdtopo.insert(0, 'Category', category)\n",
    "    bdtopo.insert(1, 'Type', file_info)\n",
    "\n",
    "    return bdtopo\n"
   ]
  },
  {
   "attachments": {},
   "cell_type": "markdown",
   "metadata": {},
   "source": [
    "#### Fonction de selection de centroides présent dans les coordonnees de l'image"
   ]
  },
  {
   "cell_type": "code",
   "execution_count": null,
   "metadata": {},
   "outputs": [],
   "source": [
    "# Define a function to check if a polygon is within the specified x and y coordinate ranges\n",
    "\n",
    "def isInMap(xrange, yrange):\n",
    "    def my_function(polynom):\n",
    "        x, y = polynom.centroid.x, polynom.centroid.y\n",
    "        if xrange[0] < x and xrange[1] > x and yrange[0] < y and yrange[1] > y:\n",
    "            return True\n",
    "        else:\n",
    "            return False\n",
    "\n",
    "    return my_function"
   ]
  },
  {
   "attachments": {},
   "cell_type": "markdown",
   "metadata": {},
   "source": [
    "#### Fonction de traduction des coordonnées des centroides"
   ]
  },
  {
   "cell_type": "code",
   "execution_count": null,
   "metadata": {},
   "outputs": [],
   "source": [
    "# Define a function to convert the coordinates of a polygon's centroid to a new coordinate system\n",
    "def convert_centroid(map_size, xrange, yrange):\n",
    "    def my_function(polygon):\n",
    "        x, y = polygon.centroid.x, polygon.centroid.y\n",
    "        x_new = (x - xrange[0]) / (xrange[1] - xrange[0]) * map_size[0]\n",
    "        y_new = (y - yrange[0]) / (yrange[1] - yrange[0]) * map_size[1]\n",
    "        return [x_new, y_new]\n",
    "\n",
    "    return my_function\n"
   ]
  },
  {
   "attachments": {},
   "cell_type": "markdown",
   "metadata": {},
   "source": [
    "#### Fonction de traaduction des coordonnées des formes géométriques"
   ]
  },
  {
   "cell_type": "code",
   "execution_count": null,
   "metadata": {},
   "outputs": [],
   "source": [
    "# Define a function to convert the coordinates of a polygon (or others) to a new coordinate system\n",
    "def convert_polygon(map_size, xrange, yrange):\n",
    "    def my_function(polygon):\n",
    "        if polygon.wkt.lower()[:7] == \"polygon\":\n",
    "            x, y = polygon.exterior.coords.xy\n",
    "            x = x.tolist()\n",
    "            y = y.tolist()\n",
    "        elif polygon.wkt[:10].lower() == \"linestring\":\n",
    "            x, y = polygon.coords.xy\n",
    "            x = x.tolist()\n",
    "            x += x[::-1]\n",
    "            y = y.tolist()\n",
    "            y += y[::-1]\n",
    "        else:\n",
    "            x = [1, 2]\n",
    "            y = [1, 2]\n",
    "        x = np.array(x)\n",
    "        y = np.array(y)\n",
    "        \n",
    "        x_new = (x - xrange[0]) / (xrange[1] - xrange[0]) * map_size[0]\n",
    "        y_new = (y - yrange[0]) / (yrange[1] - yrange[0]) * map_size[1]\n",
    "        return [x_new, y_new]\n",
    "\n",
    "    return my_function\n"
   ]
  },
  {
   "attachments": {},
   "cell_type": "markdown",
   "metadata": {},
   "source": [
    "#### Fonction pour transformer les coordonnées d'un polygone en liste de coordonnées"
   ]
  },
  {
   "cell_type": "code",
   "execution_count": null,
   "metadata": {},
   "outputs": [],
   "source": [
    "# Define a function to generate coordinates for all polygons in a GeoDataFrame\n",
    "def generate_x_polygons(xdata) :\n",
    "    list_x = []\n",
    "    for xpoly in xdata:\n",
    "        list_x.extend(xpoly.tolist() + [None])\n",
    "    list_x = list_x[:-1]\n",
    "    return list_x\n"
   ]
  },
  {
   "cell_type": "code",
   "execution_count": null,
   "metadata": {},
   "outputs": [],
   "source": []
  },
  {
   "attachments": {},
   "cell_type": "markdown",
   "metadata": {},
   "source": [
    "## 1) Récupération, compréhension, visualisation des données."
   ]
  },
  {
   "attachments": {},
   "cell_type": "markdown",
   "metadata": {},
   "source": [
    "### Affichage de l'image originale"
   ]
  },
  {
   "cell_type": "code",
   "execution_count": null,
   "metadata": {},
   "outputs": [],
   "source": [
    "# Chemin de l'image\n",
    "imgPath = \"./ORTHOHR_1-0_RVB-0M20_JP2-E080_LAMB93_D02A_2019-01-01/ORTHOHR/1_DONNEES_LIVRAISON_2020-07-00225/OHR_RVB_0M20_JP2-E080_LAMB93_D2A-2019/2A-2019-1160-6135-LA93-0M20-E080.jp2\"\n",
    "\n",
    "# Affichage de l'image\n",
    "imageNormalized = displayImg(imgPath)\n",
    "\n",
    "plt.figure(figsize=(15, 15))\n",
    "plt.imshow(imageNormalized)\n",
    "plt.show()"
   ]
  },
  {
   "attachments": {},
   "cell_type": "markdown",
   "metadata": {},
   "source": [
    "### Fichiers Shape"
   ]
  },
  {
   "attachments": {},
   "cell_type": "markdown",
   "metadata": {},
   "source": [
    "#### Visualisation des fichiers shp"
   ]
  },
  {
   "cell_type": "code",
   "execution_count": null,
   "metadata": {},
   "outputs": [],
   "source": [
    "shpPath = \"./Cadastre/BDTOPO_3-0_TOUSTHEMES_SHP_LAMB93_D02A_2019-03-15/\"\n",
    "df = get_shp_files(shpPath)\n",
    "\n",
    "# Affichage propre\n",
    "duplicates = df['Répertoire'].duplicated()\n",
    "df.loc[duplicates, 'Répertoire'] = ''\n",
    "df\n"
   ]
  },
  {
   "attachments": {},
   "cell_type": "markdown",
   "metadata": {},
   "source": [
    "#### Affichage des fichiers shapefile"
   ]
  },
  {
   "cell_type": "code",
   "execution_count": null,
   "metadata": {},
   "outputs": [],
   "source": [
    "shp = gpd.read_file('/Users/raphael/Desktop/local.nosync/DétectionMI/BDTOPO_3-3_TOUSTHEMES_SHP_LAMB93_D02A_2022-12-15/BDTOPO/1_DONNEES_LIVRAISON_2022-12-00159/BDT_3-3_SHP_LAMB93_D02A-ED2022-12-15/BATI/BATIMENT.shp')"
   ]
  },
  {
   "cell_type": "code",
   "execution_count": null,
   "metadata": {},
   "outputs": [],
   "source": [
    "shp.plot(figsize=(8,12))"
   ]
  },
  {
   "cell_type": "code",
   "execution_count": null,
   "metadata": {},
   "outputs": [],
   "source": [
    "fig, ax = plt.subplots(figsize=(20,25))\n",
    "\n",
    "shp.plot(ax=ax, color='black')\n",
    "\n",
    "ax.set_xlim(1190000, 1195000)\n",
    "ax.set_ylim(6080000, 6082500)\n",
    "ax.set_xlabel('x axis')\n",
    "ax.set_ylabel('y axis')\n",
    "\n",
    "plt.show()"
   ]
  },
  {
   "attachments": {},
   "cell_type": "markdown",
   "metadata": {},
   "source": [
    "### Carte interactive"
   ]
  },
  {
   "cell_type": "code",
   "execution_count": null,
   "metadata": {},
   "outputs": [],
   "source": [
    "# Image path\n",
    "paths = \"./ORTHOHR_1-0_RVB-0M20_JP2-E080_LAMB93_D02A_2019-01-01/ORTHOHR/1_DONNEES_LIVRAISON_2020-07-00225/OHR_RVB_0M20_JP2-E080_LAMB93_D2A-2019/2A-2019-1160-6135-LA93-0M20-E080.jp2\"\n",
    "\n",
    "# Load the image and its bounds\n",
    "rgb_image, xrange, yrange = load_image(paths)\n",
    "\n"
   ]
  },
  {
   "cell_type": "code",
   "execution_count": null,
   "metadata": {},
   "outputs": [],
   "source": [
    "# Find shapefiles in the specified folder\n",
    "paths_shp = glob.glob(r'./BDTOPO_3-3_TOUSTHEMES_SHP_LAMB93_D02A_2022-12-15/BDTOPO/1_DONNEES_LIVRAISON_2022-12-00159/BDT_3-3_SHP_LAMB93_D02A-ED2022-12-15/BATI/*.shp')\n",
    "\n",
    "# Load first shapefile\n",
    "bdtopo = load_shp(paths_shp[0])\n",
    "\n",
    "# Load the rest of the shapefiles and append them to the main GeoDataFrame\n",
    "for path in paths_shp[1:]:\n",
    "    bdtopo = pd.concat([bdtopo, load_shp(path)])\n",
    "\n",
    "# Reset the index and drop the old index\n",
    "bdtopo.reset_index(drop=True, inplace=True)\n",
    "\n",
    "# Display the resulting GeoDataFrame\n",
    "print(bdtopo)"
   ]
  },
  {
   "cell_type": "code",
   "execution_count": null,
   "metadata": {},
   "outputs": [],
   "source": [
    "# Group the GeoDataFrame by 'Category' and 'Type' columns, and get the first geometry for each group\n",
    "grouped_bdtopo = bdtopo.groupby(['Category', 'Type']).first()['geometry']\n",
    "\n",
    "# Iterate through the available geometries and print their representations\n",
    "for idx, geometry in grouped_bdtopo.items():\n",
    "    print(f\"Index: {idx}, Geometry: {repr(geometry)}\")\n",
    "\n",
    "\n"
   ]
  },
  {
   "cell_type": "code",
   "execution_count": null,
   "metadata": {},
   "outputs": [],
   "source": [
    "# Define the map size and coordinate ranges\n",
    "map_size = [5000, 5000]\n",
    "\n",
    "# Replace 'bdtopo', 'xrange', and 'yrange' with the actual GeoDataFrame and coordinate ranges you have\n",
    "# Filter the GeoDataFrame to include only polygons within the specified coordinate ranges\n",
    "bdtopo_zone = bdtopo[bdtopo['geometry'].apply(isInMap(xrange, [yrange[1], yrange[0]]))].copy()\n",
    "print('Before:', bdtopo.shape, 'After:', bdtopo_zone.shape)\n",
    "\n",
    "# Convert the coordinates of the centroid and polygon to the new coordinate system\n",
    "bdtopo_zone['centroid'] = bdtopo_zone['geometry'].apply(convert_centroid(map_size, xrange, yrange))\n",
    "# Get the x and y coordinates of the centroid and store them in separate columns\n",
    "bdtopo_zone['xcentroid'] = bdtopo_zone['centroid'].apply(lambda x: x[0])\n",
    "bdtopo_zone['ycentroid'] = bdtopo_zone['centroid'].apply(lambda x: x[1])\n",
    "\n",
    "# Filter the GeoDataFrame to include desired forms within the specified coordinate ranges\n",
    "bdtopo_point = bdtopo_zone[bdtopo_zone['geometry'].apply(lambda x: x.wkt.lower()[:5] == \"point\")]\n",
    "bdtopo_zone = bdtopo_zone[bdtopo_zone['geometry'].apply(lambda x: x.wkt.lower()[:7] == \"polygon\" or x.wkt[:10].lower() == \"linestring\")]\n",
    "\n",
    "# Convert the coordinates of the polygons and linestrings to the new coordinate system\n",
    "bdtopo_zone['polygon'] = bdtopo_zone['geometry'].apply(convert_polygon(map_size, xrange, yrange))\n",
    "\n",
    "# Get the x and y coordinates of the polygons and linestrings and store them in separate columns\n",
    "bdtopo_zone['xpolygon'] = bdtopo_zone['polygon'].apply(lambda x: x[0])\n",
    "bdtopo_zone['ypolygon'] = bdtopo_zone['polygon'].apply(lambda x: x[1])\n",
    "\n",
    "bdtopo_zone.head()\n"
   ]
  },
  {
   "cell_type": "code",
   "execution_count": null,
   "metadata": {},
   "outputs": [],
   "source": [
    "# Group the polygons and linestrings by their 'Type' column and aggregate their x and y coordinates into lists\n",
    "bdtopo_zone_agregate = bdtopo_zone.groupby('Type').agg({'xpolygon' :list, 'ypolygon':list})\n",
    "\n",
    "# Apply the 'generate_x_polygons' function to the coordinates columns to convert the x coordinates to a list format\n",
    "bdtopo_zone_agregate['xpolygon_ready'] = bdtopo_zone_agregate['xpolygon'].apply(generate_x_polygons)\n",
    "bdtopo_zone_agregate['ypolygon_ready'] = bdtopo_zone_agregate['ypolygon'].apply(generate_x_polygons)\n",
    "\n",
    "bdtopo_zone_agregate"
   ]
  },
  {
   "cell_type": "code",
   "execution_count": null,
   "metadata": {},
   "outputs": [],
   "source": [
    "# Group the points by their 'Type' column and aggregate their x and y centroid coordinates into lists\n",
    "bdtopo_point_agregate = bdtopo_zone.groupby('Type').agg({'xcentroid':list, 'ycentroid' :list})\n",
    "bdtopo_point_agregate"
   ]
  },
  {
   "cell_type": "code",
   "execution_count": null,
   "metadata": {},
   "outputs": [],
   "source": [
    "# Define the show_map function with inputs for the image, scatter polygons, point markers, and their names\n",
    "def show_map(rgb_image, scatters_data, scatters_list_name, points_data, points_list_name):\n",
    "    # Create the base image\n",
    "    image = px.imshow(cv2.resize(rgb_image, (5000,5000)))\n",
    "    points = []\n",
    "\n",
    "    # Add scatter polygons\n",
    "    for i, (list_x, list_y) in enumerate(scatters_data):\n",
    "        scatter_poly = go.Scatter(\n",
    "            x=list_x,\n",
    "            y=list_y,\n",
    "            fill=\"toself\",\n",
    "            name=scatters_list_name[i]\n",
    "        )\n",
    "        points.append(scatter_poly)\n",
    "\n",
    "    # Add point markers\n",
    "    for i, (list_x, list_y) in enumerate(points_data):\n",
    "        point_marker = go.Scatter(\n",
    "            x=list_x,\n",
    "            y=list_y,\n",
    "            mode='markers',\n",
    "            marker=dict(size=5),\n",
    "            name=points_list_name[i]\n",
    "        )\n",
    "        points.append(point_marker)\n",
    "\n",
    "    # Create the figure\n",
    "    fig = go.Figure(data=[image.data[0]] + points)\n",
    "    fig.update_xaxes(range=[0, 5000])\n",
    "    fig.update_yaxes(range=[5000, 0])\n",
    "    fig.update_layout(autosize=False, width=1000, height=800)\n",
    "\n",
    "    fig.show()\n",
    "\n",
    "# Call the show_map function with corrected inputs\n",
    "show_map(rgb_image, bdtopo_zone_agregate[['xpolygon_ready', 'ypolygon_ready']].values, bdtopo_zone_agregate.index, bdtopo_point_agregate[['xcentroid', 'ycentroid']].values, bdtopo_point_agregate.index)\n"
   ]
  },
  {
   "attachments": {},
   "cell_type": "markdown",
   "metadata": {},
   "source": [
    "## 2) Transformation des images sous formes de tuiles, avec le masque des bâtiments."
   ]
  },
  {
   "attachments": {},
   "cell_type": "markdown",
   "metadata": {},
   "source": [
    "### Découpe"
   ]
  },
  {
   "attachments": {},
   "cell_type": "markdown",
   "metadata": {},
   "source": [
    "#### Découpe de l'image"
   ]
  },
  {
   "cell_type": "code",
   "execution_count": null,
   "metadata": {},
   "outputs": [],
   "source": [
    "# Répertoire source contenant toutes les mimages satellites\n",
    "imgPath = \"./Satellite/ORTHOHR_1-0_RVB-0M20_JP2-E080_LAMB93_D02A_2019-01-01/ORTHOHR/1_DONNEES_LIVRAISON_2020-07-00225/OHR_RVB_0M20_JP2-E080_LAMB93_D2A-2019/2A-2019-1160-6135-LA93-0M20-E080.jp2\"\n",
    "\n",
    "# Nombre de pixels cible de chaque image découpée\n",
    "nbPxX = 250\n",
    "nbPxY = 250\n",
    "\n",
    "# Répertoire de destination des images découpées\n",
    "destPath = \"./Decoupe_\" + str(nbPxX) + \"_\" + str(nbPxY) + \"/\"\n",
    "\n",
    "# Vide le répertoire de destination\n",
    "emptyPath(destPath)\n",
    "\n",
    "# Découpe de l'image\n",
    "splitImg(nbPxX, nbPxY, imgPath, destPath)"
   ]
  },
  {
   "attachments": {},
   "cell_type": "markdown",
   "metadata": {},
   "source": [
    "#### Affichage de l'image découpée "
   ]
  },
  {
   "cell_type": "code",
   "execution_count": null,
   "metadata": {},
   "outputs": [],
   "source": [
    "srcPath = \"./Decoupe_250_250/\"\n",
    "nbCol = 100\n",
    "nbLines = 100\n",
    "displayLegend = False\n",
    "\n",
    "displayMultipleImg(srcPath, nbCol, nbLines, displayLegend)"
   ]
  }
 ],
 "metadata": {
  "kernelspec": {
   "display_name": "Python 3",
   "language": "python",
   "name": "python3"
  },
  "language_info": {
   "codemirror_mode": {
    "name": "ipython",
    "version": 3
   },
   "file_extension": ".py",
   "mimetype": "text/x-python",
   "name": "python",
   "nbconvert_exporter": "python",
   "pygments_lexer": "ipython3",
   "version": "3.11.3"
  },
  "orig_nbformat": 4
 },
 "nbformat": 4,
 "nbformat_minor": 2
}
